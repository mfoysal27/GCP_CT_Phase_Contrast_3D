{
 "cells": [
  {
   "cell_type": "code",
   "execution_count": 1,
   "id": "eb006feb-569c-4566-83ed-63100723c292",
   "metadata": {},
   "outputs": [],
   "source": [
    "import os\n",
    "\n",
    "from google.cloud import aiplatform\n",
    "from google.protobuf import json_format\n",
    "from google.protobuf.struct_pb2 import Value\n",
    "import json\n",
    "import os\n",
    "import numpy as np\n",
    "import tensorflow as tf\n",
    "from tensorflow import keras\n",
    "import tensorflow_hub as hub\n",
    "from tensorflow.keras.utils import to_categorical\n",
    "from io import BytesIO\n",
    "from tensorflow.python.lib.io import file_io\n",
    "from tensorflow.keras.layers import (\n",
    "    Conv3D,\n",
    "    Dense,\n",
    "    Dropout,\n",
    "    Flatten,\n",
    "    MaxPooling3D,\n",
    "    Softmax\n",
    ")"
   ]
  },
  {
   "cell_type": "code",
   "execution_count": 2,
   "id": "3df15a1c-11f1-401e-b0de-4ba2c62b731b",
   "metadata": {},
   "outputs": [
    {
     "name": "stdout",
     "output_type": "stream",
     "text": [
      "Your current GCP Project Name is: qwiklabs-asl-04-76d2f9d7a5ae\n"
     ]
    }
   ],
   "source": [
    "%%bash\n",
    "PROJECT=$(gcloud config list project --format \"value(core.project)\")\n",
    "echo \"Your current GCP Project Name is: \"$PROJECT\n"
   ]
  },
  {
   "cell_type": "code",
   "execution_count": 3,
   "id": "d7f93807-3072-4a66-a5cb-78e59dca5bb8",
   "metadata": {},
   "outputs": [],
   "source": [
    "PROJECT = !gcloud config list --format 'value(core.project)'\n",
    "PROJECT = PROJECT[0]\n",
    "BUCKET = PROJECT  # defaults to PROJECT\n",
    "REGION = \"us-central1\"  # Replace with your REGION"
   ]
  },
  {
   "cell_type": "code",
   "execution_count": 4,
   "id": "369bca7e-b307-41b0-a557-cae0454e8178",
   "metadata": {},
   "outputs": [],
   "source": [
    "os.environ[\"PROJECT\"] = PROJECT\n",
    "os.environ[\"BUCKET\"] = BUCKET\n",
    "os.environ[\"REGION\"] = REGION"
   ]
  },
  {
   "cell_type": "code",
   "execution_count": 5,
   "id": "62373801-81ee-4a53-81c8-d0ccf36a19de",
   "metadata": {},
   "outputs": [
    {
     "name": "stderr",
     "output_type": "stream",
     "text": [
      "Updated property [core/project].\n",
      "Updated property [ai/region].\n"
     ]
    }
   ],
   "source": [
    "%%bash\n",
    "gcloud config set project $PROJECT\n",
    "gcloud config set ai/region $REGION"
   ]
  },
  {
   "cell_type": "code",
   "execution_count": 6,
   "id": "89bb4a65-4888-4fee-a515-d7129aed4bad",
   "metadata": {},
   "outputs": [],
   "source": [
    "labels_to_numeric = {\n",
    "    \"Arterial\": 0,\n",
    "    \"Late\": 1,\n",
    "    \"Non-Contrast\": 2,\n",
    "    \"Venous\": 3\n",
    "}\n",
    "\n",
    "numeric_to_labels = {\n",
    "    0:   \"Arterial\",\n",
    "    1:   \"Late\",    \n",
    "    2:   \"Non-Contrast\",    \n",
    "    3:  \"Venous\"\n",
    "}\n",
    "\n",
    "def reshape_and_normalize(images):\n",
    "    \n",
    "    ### START CODE HEREA\n",
    "\n",
    "    # Reshape the images to add an extra dimension\n",
    "    images = images.reshape((images.shape[0], images.shape[1], images.shape[2], images.shape[3],1))\n",
    "    \n",
    "    # Normalize pixel values\n",
    "    max_value = np.max(images)\n",
    "    images = images/max_value\n",
    "    \n",
    "    ### END CODE HERE\n",
    "\n",
    "    return images,max_value# Reload the images in case you run this cell multiple times\n",
    "\n",
    "def load_and_format_data_from_gcs(sample_dir):\n",
    "    # sample_dir=\"gs://capstone-datasets/train_3d.csv\"\n",
    "    file_list = file_io.read_file_to_string(sample_dir).split(\"\\n\")\n",
    "    images = np.array([np.load(BytesIO(file_io.read_file_to_string(file, binary_mode=True)))\n",
    "                      for file in file_list if file])\n",
    "    labels = np.array([os.path.basename(file).split(\"_\")[4] for file in file_list if file])\n",
    "    labels = np.array([labels_to_numeric[label] for label in labels])\n",
    "    one_hots = to_categorical(labels)\n",
    "\n",
    "    images_tranformed, max_value = reshape_and_normalize(images)\n",
    "    return images_tranformed, one_hots"
   ]
  },
  {
   "cell_type": "code",
   "execution_count": 7,
   "id": "b046fec2-4742-4573-9316-30bcedc098f3",
   "metadata": {},
   "outputs": [],
   "source": [
    "#Create Test Dataset\n",
    "test_sample_dir = \"gs://capstone-datasets/test_3d.csv\"\n",
    "test_images, one_hots = load_and_format_data_from_gcs(test_sample_dir)"
   ]
  },
  {
   "cell_type": "code",
   "execution_count": 8,
   "id": "3a474005-73f0-4b10-b133-065b816c6c59",
   "metadata": {},
   "outputs": [],
   "source": [
    "img = test_images[1].astype(np.float32).tolist()"
   ]
  },
  {
   "cell_type": "code",
   "execution_count": 9,
   "id": "0475795a-db87-4db3-b7f8-240897e64821",
   "metadata": {},
   "outputs": [],
   "source": [
    "# #Create test json file\n",
    "# BATCH_PREDICTION_INSTANCES_FILE = \"auto.jsonl\"\n",
    "\n",
    "# with open(BATCH_PREDICTION_INSTANCES_FILE, \"w\") as f:\n",
    "#     for i in range (len(test_images)):\n",
    "#         f.write(json.dumps(test_images[i].tolist()) + \"\\n\")"
   ]
  },
  {
   "cell_type": "code",
   "execution_count": 10,
   "id": "27ad1bbf-69a0-42ff-93da-a998ca76ed0a",
   "metadata": {},
   "outputs": [],
   "source": [
    "# os.chdir('/home/jupyter/CapStone_Phase_Contrast/src/')"
   ]
  },
  {
   "cell_type": "code",
   "execution_count": 11,
   "id": "89155d7c-9cb3-487b-a2ff-67f4c6f960c3",
   "metadata": {},
   "outputs": [],
   "source": [
    "# Push json file to GCS Bucket\n",
    "# !gsutil cp auto.jsonl gs://capstone-datasets/image_all.jsonl"
   ]
  },
  {
   "cell_type": "code",
   "execution_count": 12,
   "id": "0956037c-cb9e-4b1e-967d-ce01a00b8729",
   "metadata": {},
   "outputs": [],
   "source": [
    "# # Rutu's model_all image\n",
    "# MODEL_RESOURCENAME = \"projects/146339387885/locations/us-central1/models/3863536525446742016\"\n",
    "\n",
    "# aiplatform.init(project=PROJECT, location=REGION)\n",
    "\n",
    "# my_model = aiplatform.Model(MODEL_RESOURCENAME)\n",
    "\n",
    "# batch_prediction_job = my_model.batch_predict(\n",
    "#     job_display_name=\"ct_scan_batch_kamrul_predict_rutusmodel2\",\n",
    "#     gcs_source=f\"gs://capstone-datasets/image_all.jsonl\",\n",
    "#     gcs_destination_prefix=f\"gs://{BUCKET}/ct_contrast_outputs/Rutu/\",\n",
    "#     machine_type=\"n1-highcpu-32\",\n",
    "#     accelerator_type=\"NVIDIA_TESLA_T4\",\n",
    "#     starting_replica_count=1,\n",
    "#     max_replica_count=1,\n",
    "#     accelerator_count=1,\n",
    "# )\n",
    "\n",
    "# batch_prediction_job.wait()\n",
    "\n",
    "# print(batch_prediction_job.display_name)\n",
    "# print(batch_prediction_job.resource_name)\n",
    "# print(batch_prediction_job.state)"
   ]
  },
  {
   "cell_type": "code",
   "execution_count": 13,
   "id": "64f2aafa-3284-471c-afde-63aeb8e820bf",
   "metadata": {},
   "outputs": [],
   "source": [
    "#Check for errors\n",
    "# !gsutil cat $(gsutil ls gs://qwiklabs-asl-04-76d2f9d7a5ae/ct_contrast_outputs5 | tail -n1)prediction.errors_stats-*"
   ]
  },
  {
   "cell_type": "code",
   "execution_count": 14,
   "id": "c76ce9a8-3b9e-41a1-8d54-8927e0566cfb",
   "metadata": {},
   "outputs": [],
   "source": [
    "# !gsutil cat $(gsutil ls gs://qwiklabs-asl-04-76d2f9d7a5ae/ct_contrast_outputs5 | tail -n1)prediction.results-*"
   ]
  },
  {
   "cell_type": "code",
   "execution_count": 26,
   "id": "d1326037-8abf-4472-a098-404124e0f341",
   "metadata": {},
   "outputs": [],
   "source": [
    "import os\n",
    "os.chdir('/home/jupyter/CapStone_Phase_Contrast/src/predictions/')"
   ]
  },
  {
   "cell_type": "code",
   "execution_count": 27,
   "id": "34399b74-268b-451d-a829-ffbdbba133f4",
   "metadata": {},
   "outputs": [
    {
     "name": "stdout",
     "output_type": "stream",
     "text": [
      "Copying gs://qwiklabs-asl-04-76d2f9d7a5ae/ct_contrast_outputs5/prediction-rutu-test-2023_04_06T09_18_53_923Z/prediction.results-00000-of-00006...\n",
      "Copying gs://qwiklabs-asl-04-76d2f9d7a5ae/ct_contrast_outputs5/prediction-rutu-test-2023_04_06T09_18_53_923Z/prediction.results-00001-of-00006...\n",
      "Copying gs://qwiklabs-asl-04-76d2f9d7a5ae/ct_contrast_outputs5/prediction-rutu-test-2023_04_06T09_18_53_923Z/prediction.results-00002-of-00006...\n",
      "Copying gs://qwiklabs-asl-04-76d2f9d7a5ae/ct_contrast_outputs5/prediction-rutu-test-2023_04_06T09_18_53_923Z/prediction.results-00005-of-00006...\n",
      "Copying gs://qwiklabs-asl-04-76d2f9d7a5ae/ct_contrast_outputs5/prediction-rutu-test-2023_04_06T09_18_53_923Z/prediction.results-00003-of-00006...\n",
      "Copying gs://qwiklabs-asl-04-76d2f9d7a5ae/ct_contrast_outputs5/prediction-rutu-test-2023_04_06T09_18_53_923Z/prediction.results-00004-of-00006...\n",
      "| [6/6 files][358.6 MiB/358.6 MiB] 100% Done                                    \n",
      "Operation completed over 6 objects/358.6 MiB.                                    \n"
     ]
    }
   ],
   "source": [
    "# #Push results to notebook\n",
    "# !gsutil -m cp -r gs://qwiklabs-asl-04-76d2f9d7a5ae/ct_contrast_outputs5/prediction-rutu-test-2023_04_06T09_18_53_923Z/prediction.results-* ."
   ]
  },
  {
   "cell_type": "code",
   "execution_count": 28,
   "id": "748434c6-f4cd-4a8d-8a50-1723fcd3b66e",
   "metadata": {},
   "outputs": [
    {
     "name": "stdout",
     "output_type": "stream",
     "text": [
      "/home/jupyter/CapStone_Phase_Contrast/src/predictions/.ipynb_checkpoints\n",
      "/home/jupyter/CapStone_Phase_Contrast/src/predictions/prediction.results-00000-of-00006\n",
      "/home/jupyter/CapStone_Phase_Contrast/src/predictions/prediction.results-00001-of-00006\n",
      "/home/jupyter/CapStone_Phase_Contrast/src/predictions/prediction.results-00002-of-00006\n",
      "/home/jupyter/CapStone_Phase_Contrast/src/predictions/prediction.results-00003-of-00006\n",
      "/home/jupyter/CapStone_Phase_Contrast/src/predictions/prediction.results-00004-of-00006\n",
      "/home/jupyter/CapStone_Phase_Contrast/src/predictions/prediction.results-00005-of-00006\n"
     ]
    }
   ],
   "source": [
    "import json\n",
    "import numpy as np\n",
    "predictions=[]\n",
    "predictions_numeric=[]\n",
    "for filename in sorted(os.listdir()):\n",
    "    f = os.path.join('/home/jupyter/CapStone_Phase_Contrast/src/predictions', filename)\n",
    "    print(f)\n",
    "    if os.path.isfile(f):\n",
    "        results = []\n",
    "        with open(f, \"r\") as file:\n",
    "            results.extend([json.loads(line) for line in file.readlines()])\n",
    "            for i in range(max(np.shape(results))):\n",
    "                array=list(results[i]['prediction'])\n",
    "                output=np.argmax(array)\n",
    "                predictions.append(list(labels_to_numeric.keys()) [list(labels_to_numeric.values()).index(output)])\n",
    "                predictions_numeric.append(output)\n",
    "# predictions\n",
    "# predictions_numeric"
   ]
  },
  {
   "cell_type": "code",
   "execution_count": 18,
   "id": "89bd2d0e-a8ec-4b03-b00f-b2bbe7724b5d",
   "metadata": {},
   "outputs": [],
   "source": [
    "# predictions"
   ]
  },
  {
   "cell_type": "code",
   "execution_count": 19,
   "id": "2680b547-df08-4426-aebd-96abedadcbbe",
   "metadata": {},
   "outputs": [],
   "source": [
    "# !gsutil cp -r gs://test-3d-npy ."
   ]
  },
  {
   "cell_type": "code",
   "execution_count": 29,
   "id": "f88efecd-966d-4e2b-87ae-daed8c2dada0",
   "metadata": {},
   "outputs": [],
   "source": [
    "os.chdir('/home/jupyter/CapStone_Phase_Contrast/src/test-3d-npy')"
   ]
  },
  {
   "cell_type": "code",
   "execution_count": 30,
   "id": "2f553304-e046-4509-9a21-2e2b011f4f88",
   "metadata": {},
   "outputs": [
    {
     "name": "stdout",
     "output_type": "stream",
     "text": [
      "data_3D_test_10_Venous_0.npy\n",
      "data_3D_test_25_Venous_0.npy\n",
      "data_3D_test_35_Venous_0.npy\n",
      "data_3D_test_40_Venous_0.npy\n",
      "data_3D_test_KiTS-00011_Non-Contrast_0.npy\n",
      "data_3D_test_KiTS-00015_Non-Contrast_0.npy\n",
      "data_3D_test_KiTS-00017_Arterial_0.npy\n",
      "data_3D_test_KiTS-00022_Non-Contrast_0.npy\n",
      "data_3D_test_KiTS-00023_Non-Contrast_0.npy\n",
      "data_3D_test_KiTS-00025_Late_0.npy\n",
      "data_3D_test_KiTS-00036_Arterial_0.npy\n",
      "data_3D_test_KiTS-00037_Arterial_0.npy\n",
      "data_3D_test_KiTS-00040_Non-Contrast_0.npy\n",
      "data_3D_test_KiTS-00042_Arterial_0.npy\n",
      "data_3D_test_KiTS-00048_Arterial_0.npy\n",
      "data_3D_test_KiTS-00056_Arterial_0.npy\n",
      "data_3D_test_KiTS-00063_Arterial_0.npy\n",
      "data_3D_test_KiTS-00073_Arterial_0.npy\n",
      "data_3D_test_KiTS-00081_Arterial_0.npy\n",
      "data_3D_test_KiTS-00084_Arterial_0.npy\n",
      "data_3D_test_KiTS-00096_Arterial_0.npy\n",
      "data_3D_test_KiTS-00096_Non-Contrast_0.npy\n",
      "data_3D_test_KiTS-00097_Arterial_0.npy\n",
      "data_3D_test_KiTS-00100_Arterial_0.npy\n",
      "data_3D_test_KiTS-00100_Late_0.npy\n",
      "data_3D_test_KiTS-00105_Arterial_0.npy\n",
      "data_3D_test_KiTS-00115_Arterial_0.npy\n",
      "data_3D_test_KiTS-00120_Non-Contrast_0.npy\n",
      "data_3D_test_KiTS-00124_Late_0.npy\n",
      "data_3D_test_KiTS-00129_Non-Contrast_0.npy\n",
      "data_3D_test_KiTS-00130_Late_0.npy\n",
      "data_3D_test_KiTS-00133_Arterial_0.npy\n",
      "data_3D_test_KiTS-00145_Arterial_0.npy\n",
      "data_3D_test_KiTS-00145_Non-Contrast_0.npy\n",
      "data_3D_test_KiTS-00146_Arterial_0.npy\n",
      "data_3D_test_KiTS-00149_Late_0.npy\n",
      "data_3D_test_KiTS-00150_Late_0.npy\n",
      "data_3D_test_KiTS-00156_Arterial_0.npy\n",
      "data_3D_test_KiTS-00161_Non-Contrast_0.npy\n",
      "data_3D_test_KiTS-00177_Arterial_0.npy\n",
      "data_3D_test_KiTS-00193_Late_0.npy\n",
      "data_3D_test_KiTS-00200_Late_0.npy\n",
      "data_3D_test_KiTS-00201_Late_0.npy\n",
      "data_3D_test_KiTS-00208_Arterial_0.npy\n"
     ]
    }
   ],
   "source": [
    "ground_truth=[]\n",
    "ground_truth_numeric=[]\n",
    "for filename in sorted(os.listdir('/home/jupyter/CapStone_Phase_Contrast/src/test-3d-npy')):\n",
    "    print(filename)\n",
    "    newfile=filename.split('_')[4]\n",
    "    ground_truth.append(newfile)\n",
    "    ground_truth_numeric.append(labels_to_numeric[newfile])\n",
    "# ground_truth    \n",
    "# ground_truth_numeric"
   ]
  },
  {
   "cell_type": "code",
   "execution_count": 31,
   "id": "c80d1a85-4c8c-4cd9-b7ee-d42322feb5d7",
   "metadata": {},
   "outputs": [],
   "source": [
    "# ground_truth  "
   ]
  },
  {
   "cell_type": "code",
   "execution_count": 36,
   "id": "583a7a08-8210-433b-ad6d-af1ef22920ec",
   "metadata": {},
   "outputs": [
    {
     "name": "stdout",
     "output_type": "stream",
     "text": [
      "[[7 8 4 2]\n",
      " [4 1 4 0]\n",
      " [5 3 1 1]\n",
      " [1 2 1 0]]\n"
     ]
    },
    {
     "data": {
      "image/png": "[encoded data removed]",
      "text/plain": [
       "<Figure size 640x480 with 2 Axes>"
      ]
     },
     "metadata": {},
     "output_type": "display_data"
    }
   ],
   "source": [
    "from sklearn.metrics import confusion_matrix\n",
    "import seaborn as sns\n",
    "\n",
    "cf_matrix = confusion_matrix(ground_truth_numeric, predictions_numeric)\n",
    "print(cf_matrix)\n",
    "sns.heatmap(cf_matrix, annot=True)\n",
    "categories = ['Arterial', 'Late', 'Non-Contrast', 'Venous']\n"
   ]
  },
  {
   "cell_type": "code",
   "execution_count": 44,
   "id": "4e5efe06-0ba4-43d3-bb97-592d44162778",
   "metadata": {},
   "outputs": [
    {
     "data": {
      "text/plain": [
       "<AxesSubplot:xlabel='Predicted', ylabel='Actual'>"
      ]
     },
     "execution_count": 44,
     "metadata": {},
     "output_type": "execute_result"
    },
    {
     "data": {
      "image/png": "[encoded data removed]",
      "text/plain": [
       "<Figure size 1000x700 with 2 Axes>"
      ]
     },
     "metadata": {},
     "output_type": "display_data"
    }
   ],
   "source": [
    "from sklearn.metrics import confusion_matrix\n",
    "import pandas as pd\n",
    "import seaborn as sn\n",
    "import matplotlib.pyplot as plt\n",
    "%matplotlib inline\n",
    "import numpy as np\n",
    "# data = cf_matrix/cf_matrix.sum(axis=1)\n",
    "data = cf_matrix.astype('float') / cf_matrix.sum(axis=1)[:, np.newaxis]\n",
    "\n",
    "df_cm = pd.DataFrame(data, columns=np.unique(categories), index = np.unique(categories))\n",
    "df_cm.index.name = 'Actual'\n",
    "df_cm.columns.name = 'Predicted'\n",
    "plt.figure(figsize = (10,7))\n",
    "sn.set(font_scale=1.4)#for label size\n",
    "sn.heatmap(df_cm, fmt='.02%', annot=True, annot_kws={\"size\": 16})# font size"
   ]
  },
  {
   "cell_type": "code",
   "execution_count": 34,
   "id": "b65cec06-fd3d-4367-ba21-e3fad14fa9fd",
   "metadata": {},
   "outputs": [
    {
     "name": "stdout",
     "output_type": "stream",
     "text": [
      "Accuracy: 0.204545\n",
      "Precision\n",
      "[0.41176471 0.07142857 0.1        0.        ]\n",
      "Recall\n",
      "[0.33333333 0.11111111 0.1        0.        ]\n",
      "F1 Score\n",
      "[0.36842105 0.08695652 0.1        0.        ]\n"
     ]
    }
   ],
   "source": [
    "from sklearn.metrics import *\n",
    "accuracy = accuracy_score(ground_truth_numeric, predictions_numeric)\n",
    "print('Accuracy: %f' % accuracy)\n",
    "# precision tp / (tp + fp)\n",
    "precision = precision_score(ground_truth_numeric, predictions_numeric, average=None)\n",
    "print('Precision')\n",
    "print(  precision)\n",
    "# recall: tp / (tp + fn)\n",
    "recall = recall_score(ground_truth_numeric, predictions_numeric,average=None)\n",
    "print('Recall')\n",
    "print( recall)\n",
    "# f1: 2 tp / (2 tp + fp + fn)\n",
    "f1 = f1_score(ground_truth_numeric, predictions_numeric, average=None)\n",
    "print('F1 Score')\n",
    "print( f1)"
   ]
  },
  {
   "cell_type": "code",
   "execution_count": 46,
   "id": "f340a9cd-e66c-423c-8dd5-49ff10a4f920",
   "metadata": {},
   "outputs": [],
   "source": [
    "from sklearn.metrics import precision_recall_fscore_support as score\n",
    "\n",
    "precision, recall, fscore, support = score(ground_truth_numeric, predictions_numeric)"
   ]
  },
  {
   "cell_type": "code",
   "execution_count": 48,
   "id": "bddc439c-a45e-42aa-a3eb-1696fcf14aa7",
   "metadata": {},
   "outputs": [
    {
     "name": "stdout",
     "output_type": "stream",
     "text": [
      "precision: [0.41176471 0.07142857 0.1        0.        ]\n",
      "recall: [0.33333333 0.11111111 0.1        0.        ]\n",
      "fscore: [0.36842105 0.08695652 0.1        0.        ]\n",
      "support: [21  9 10  4]\n"
     ]
    }
   ],
   "source": [
    "print('precision: {}'.format(precision))\n",
    "print('recall: {}'.format(recall))\n",
    "print('fscore: {}'.format(fscore))\n",
    "print('support: {}'.format(support))"
   ]
  },
  {
   "cell_type": "code",
   "execution_count": null,
   "id": "486f3674-df78-4a2e-bb56-46b4b50e5054",
   "metadata": {},
   "outputs": [],
   "source": []
  }
 ],
 "metadata": {
  "environment": {
   "kernel": "python3",
   "name": "tf2-gpu.2-8.m104",
   "type": "gcloud",
   "uri": "gcr.io/deeplearning-platform-release/tf2-gpu.2-8:m104"
  },
  "kernelspec": {
   "display_name": "Python 3 (ipykernel)",
   "language": "python",
   "name": "python3"
  },
  "language_info": {
   "codemirror_mode": {
    "name": "ipython",
    "version": 3
   },
   "file_extension": ".py",
   "mimetype": "text/x-python",
   "name": "python",
   "nbconvert_exporter": "python",
   "pygments_lexer": "ipython3",
   "version": "3.7.12"
  }
 },
 "nbformat": 4,
 "nbformat_minor": 5
}
