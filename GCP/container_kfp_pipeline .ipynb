{
 "cells": [
  {
   "cell_type": "code",
   "execution_count": null,
   "id": "df89b43d-0a5c-4553-9bc6-853365e1701e",
   "metadata": {
    "pycharm": {
     "name": "#%%\n"
    }
   },
   "outputs": [],
   "source": []
  },
  {
   "cell_type": "code",
   "execution_count": 155,
   "id": "7a8f7a6c-037f-4b86-a6a8-228e43aa76a3",
   "metadata": {
    "pycharm": {
     "name": "#%%\n"
    }
   },
   "outputs": [],
   "source": [
    "from datetime import datetime\n",
    "\n",
    "from google.cloud import aiplatform\n",
    "import os"
   ]
  },
  {
   "cell_type": "code",
   "execution_count": 156,
   "id": "a93b3d99-823b-41b9-922b-48470960f36f",
   "metadata": {
    "pycharm": {
     "name": "#%%\n"
    }
   },
   "outputs": [],
   "source": [
    "REGION = \"us-central1\"\n",
    "PROJECT_ID = !(gcloud config get-value project)\n",
    "PROJECT_ID = PROJECT_ID[0]"
   ]
  },
  {
   "cell_type": "code",
   "execution_count": 157,
   "id": "960dba60-235c-4ba7-b948-640f0075e3fd",
   "metadata": {
    "pycharm": {
     "name": "#%%\n"
    }
   },
   "outputs": [
    {
     "data": {
      "text/plain": [
       "'qwiklabs-asl-04-76d2f9d7a5ae'"
      ]
     },
     "execution_count": 157,
     "metadata": {},
     "output_type": "execute_result"
    }
   ],
   "source": [
    "PROJECT_ID"
   ]
  },
  {
   "cell_type": "code",
   "execution_count": 158,
   "id": "b5b8701b-df35-4d50-8474-2fdc24103bef",
   "metadata": {
    "pycharm": {
     "name": "#%%\n"
    }
   },
   "outputs": [
    {
     "name": "stdout",
     "output_type": "stream",
     "text": [
      "env: PATH=/home/jupyter/.local/bin:/home/jupyter/.local/bin:/home/jupyter/.local/bin:/home/jupyter/.local/bin:/home/jupyter/.local/bin:/home/jupyter/.local/bin:/home/jupyter/.local/bin:/home/jupyter/.local/bin:/home/jupyter/.local/bin:/usr/local/cuda/bin:/opt/conda/bin:/opt/conda/condabin:/usr/local/bin:/usr/bin:/bin:/usr/local/games:/usr/games:/home/jupyter/.local/bin:\n"
     ]
    }
   ],
   "source": [
    "# Set `PATH` to include the directory containing KFP CLI\n",
    "PATH = %env PATH\n",
    "%env PATH=/home/jupyter/.local/bin:{PATH}"
   ]
  },
  {
   "cell_type": "code",
   "execution_count": 159,
   "id": "c7d1a45e-3847-4c1c-ad0f-07c50242d680",
   "metadata": {
    "pycharm": {
     "name": "#%%\n"
    }
   },
   "outputs": [
    {
     "name": "stdout",
     "output_type": "stream",
     "text": [
      "__pycache__\n",
      "dsl-compile\n",
      "dsl-compile-v2\n",
      "identify-cli\n",
      "jsonschema\n",
      "kfp\n",
      "nodeenv\n",
      "plasma_store\n",
      "portserver.py\n",
      "pre-commit\n",
      "pre-commit-validate-config\n",
      "pre-commit-validate-manifest\n",
      "strip-hints\n",
      "tb-gcp-uploader\n",
      "tfx\n"
     ]
    }
   ],
   "source": [
    "%%bash\n",
    "ls /home/jupyter/.local/bin"
   ]
  },
  {
   "cell_type": "code",
   "execution_count": 160,
   "id": "228c843c-9f0b-4094-9f4e-9586a1fb39ad",
   "metadata": {
    "pycharm": {
     "name": "#%%\n"
    }
   },
   "outputs": [],
   "source": [
    "import os"
   ]
  },
  {
   "cell_type": "code",
   "execution_count": 161,
   "id": "18395ea4-8f3f-4f39-aa49-50ff50102cb5",
   "metadata": {},
   "outputs": [
    {
     "name": "stdout",
     "output_type": "stream",
     "text": [
      "Overwriting ./Dockerfile\n"
     ]
    }
   ],
   "source": [
    "%%writefile ./Dockerfile\n",
    "#FROM us-docker.pkg.dev/vertex-ai/training/tf-cpu.2-8:latest\n",
    "FROM us-docker.pkg.dev/vertex-ai/training/tf-gpu.2-8:latest\n",
    "RUN pip install -U cloudml-hypertune\n",
    "\n",
    "COPY . /code\n",
    "\n",
    "WORKDIR /code\n",
    "\n",
    "ENTRYPOINT [\"python3\", \"-m\", \"trainer.task\"]"
   ]
  },
  {
   "cell_type": "code",
   "execution_count": 162,
   "id": "c5ef28a2-ec4c-45fd-a9dd-44e300e4946d",
   "metadata": {
    "pycharm": {
     "name": "#%%\n"
    }
   },
   "outputs": [
    {
     "name": "stdout",
     "output_type": "stream",
     "text": [
      "#FROM us-docker.pkg.dev/vertex-ai/training/tf-cpu.2-8:latest\n",
      "FROM us-docker.pkg.dev/vertex-ai/training/tf-gpu.2-8:latest\n",
      "RUN pip install -U cloudml-hypertune\n",
      "\n",
      "COPY . /code\n",
      "\n",
      "WORKDIR /code\n",
      "\n",
      "ENTRYPOINT [\"python3\", \"-m\", \"trainer.task\"]\n"
     ]
    }
   ],
   "source": [
    "%%bash\n",
    "cat Dockerfile"
   ]
  },
  {
   "cell_type": "code",
   "execution_count": 163,
   "id": "1cd9f2bc-d7ea-4753-b05b-12bbed1c41cb",
   "metadata": {
    "pycharm": {
     "name": "#%%\n"
    }
   },
   "outputs": [
    {
     "data": {
      "text/plain": [
       "'gcr.io/qwiklabs-asl-04-76d2f9d7a5ae/rutu_image_ct_phase_contrast_kfp_3:latest'"
      ]
     },
     "execution_count": 163,
     "metadata": {},
     "output_type": "execute_result"
    }
   ],
   "source": [
    "IMAGE_NAME = \"rutu_image_ct_phase_contrast_kfp_3\"\n",
    "TAG = \"latest\"\n",
    "TRAINING_CONTAINER_IMAGE_URI = f\"gcr.io/{PROJECT_ID}/{IMAGE_NAME}:{TAG}\"\n",
    "TRAINING_CONTAINER_IMAGE_URI\n"
   ]
  },
  {
   "cell_type": "code",
   "execution_count": 164,
   "id": "83da266b-736c-47b4-9e43-6125098b4bf3",
   "metadata": {
    "pycharm": {
     "name": "#%%\n"
    }
   },
   "outputs": [],
   "source": [
    "\n",
    "SERVING_CONTAINER_IMAGE_URI=\"us-docker.pkg.dev/vertex-ai/prediction/tf2-gpu.2-8:latest\""
   ]
  },
  {
   "cell_type": "code",
   "execution_count": 165,
   "id": "38245004-3c82-4659-a56e-7eb1c928f222",
   "metadata": {
    "pycharm": {
     "name": "#%%\n"
    }
   },
   "outputs": [
    {
     "name": "stdout",
     "output_type": "stream",
     "text": [
      "01_jay_contrast_pre_containerize_generic.ipynb\n",
      "02_jay_contrast_container_kfp_pipeline .ipynb\n",
      "Dockerfile\n",
      "__pycache__\n",
      "dist\n",
      "pipeline_prebuilt_jay_3.py\n",
      "rutu_capstone_trainer_5_1.egg-info\n",
      "rutu_ct_pipeline_new1.json\n",
      "setup.py\n",
      "trainer\n"
     ]
    }
   ],
   "source": [
    "%%bash\n",
    "ls"
   ]
  },
  {
   "cell_type": "code",
   "execution_count": 166,
   "id": "e28597f5-e663-42c9-89a1-f90ea6921498",
   "metadata": {
    "pycharm": {
     "name": "#%%\n"
    }
   },
   "outputs": [
    {
     "data": {
      "text/plain": [
       "'/home/jupyter/rutuja_april5'"
      ]
     },
     "execution_count": 166,
     "metadata": {},
     "output_type": "execute_result"
    }
   ],
   "source": [
    "#os.chdir(\"/home/jupyter/asl-ml-immersion/notebooks/capstone_project/CapStone_Phase_Contrast/src/\")\n",
    "os.getcwd()"
   ]
  },
  {
   "cell_type": "code",
   "execution_count": 167,
   "id": "93ff791a-6d5a-4cbe-8609-04c504ffb3c7",
   "metadata": {
    "pycharm": {
     "name": "#%%\n"
    }
   },
   "outputs": [
    {
     "name": "stdout",
     "output_type": "stream",
     "text": [
      "Creating temporary tarball archive of 18 file(s) totalling 248.1 KiB before compression.\n",
      "Uploading tarball of [.] to [gs://qwiklabs-asl-04-76d2f9d7a5ae_cloudbuild/source/1680875027.835113-7b8ccec297f246e688addef34d3aff08.tgz]\n",
      "Created [https://cloudbuild.googleapis.com/v1/projects/qwiklabs-asl-04-76d2f9d7a5ae/locations/global/builds/e84d7d7d-737f-4410-b295-d7beda20c43f].\n",
      "Logs are available at [ https://console.cloud.google.com/cloud-build/builds/e84d7d7d-737f-4410-b295-d7beda20c43f?project=146339387885 ].\n",
      "----------------------------- REMOTE BUILD OUTPUT ------------------------------\n",
      "starting build \"e84d7d7d-737f-4410-b295-d7beda20c43f\"\n",
      "\n",
      "FETCHSOURCE\n",
      "Fetching storage object: gs://qwiklabs-asl-04-76d2f9d7a5ae_cloudbuild/source/1680875027.835113-7b8ccec297f246e688addef34d3aff08.tgz#1680875028209516\n",
      "Copying gs://qwiklabs-asl-04-76d2f9d7a5ae_cloudbuild/source/1680875027.835113-7b8ccec297f246e688addef34d3aff08.tgz#1680875028209516...\n",
      "/ [1 files][ 50.3 KiB/ 50.3 KiB]                                                \n",
      "Operation completed over 1 objects/50.3 KiB.\n",
      "BUILD\n",
      "Already have image (with digest): gcr.io/cloud-builders/docker\n",
      "Sending build context to Docker daemon  272.9kB\n",
      "Step 1/5 : FROM us-docker.pkg.dev/vertex-ai/training/tf-gpu.2-8:latest\n",
      "latest: Pulling from vertex-ai/training/tf-gpu.2-8\n",
      "846c0b181fff: Pulling fs layer\n",
      "6fc9dd88827c: Pulling fs layer\n",
      "0b311d7060d0: Pulling fs layer\n",
      "326d76058f67: Pulling fs layer\n",
      "ed7e4c52c661: Pulling fs layer\n",
      "4f05f5570c7a: Pulling fs layer\n",
      "ab264e292103: Pulling fs layer\n",
      "527d1d5ab821: Pulling fs layer\n",
      "fc46d4e99009: Pulling fs layer\n",
      "9ccf692754fa: Pulling fs layer\n",
      "c6611ece70c4: Pulling fs layer\n",
      "fe6ff819b45f: Pulling fs layer\n",
      "9184090e0dd5: Pulling fs layer\n",
      "be61e05cbc85: Pulling fs layer\n",
      "4f4fb700ef54: Pulling fs layer\n",
      "e40e177d8029: Pulling fs layer\n",
      "a0dadd11f5a2: Pulling fs layer\n",
      "4c472283b8d9: Pulling fs layer\n",
      "543a355857b8: Pulling fs layer\n",
      "7e3abb0523c6: Pulling fs layer\n",
      "f23750648678: Pulling fs layer\n",
      "c35d42703408: Pulling fs layer\n",
      "7dc69594be62: Pulling fs layer\n",
      "0c63232e03cc: Pulling fs layer\n",
      "b26ac09c4b43: Pulling fs layer\n",
      "a52e29d8420d: Pulling fs layer\n",
      "b49b9b9d451a: Pulling fs layer\n",
      "16d3b3484dd5: Pulling fs layer\n",
      "d887ad56755a: Pulling fs layer\n",
      "2c8f62b71b0c: Pulling fs layer\n",
      "291ffd9617e9: Pulling fs layer\n",
      "3c3a4ad788d8: Pulling fs layer\n",
      "f02f7299f416: Pulling fs layer\n",
      "520752a43c01: Pulling fs layer\n",
      "0a5147a4b1ca: Pulling fs layer\n",
      "6e52613138ea: Pulling fs layer\n",
      "20378ba0a78d: Pulling fs layer\n",
      "60f1fc7b9467: Pulling fs layer\n",
      "44b262c4f0d3: Pulling fs layer\n",
      "0d8a1e1e3b45: Pulling fs layer\n",
      "759bf4e69df8: Pulling fs layer\n",
      "1cce97595d01: Pulling fs layer\n",
      "d5f61f7fb82b: Pulling fs layer\n",
      "165e9457107d: Pulling fs layer\n",
      "5ce0fd7cd774: Pulling fs layer\n",
      "7fa01468f251: Pulling fs layer\n",
      "f62a4edfed0e: Pulling fs layer\n",
      "5e65cd11f938: Pulling fs layer\n",
      "ebd99ebb20bf: Pulling fs layer\n",
      "caeb9ac3c484: Pulling fs layer\n",
      "326d76058f67: Waiting\n",
      "ed7e4c52c661: Waiting\n",
      "4f05f5570c7a: Waiting\n",
      "ab264e292103: Waiting\n",
      "527d1d5ab821: Waiting\n",
      "fc46d4e99009: Waiting\n",
      "9ccf692754fa: Waiting\n",
      "c6611ece70c4: Waiting\n",
      "fe6ff819b45f: Waiting\n",
      "9184090e0dd5: Waiting\n",
      "be61e05cbc85: Waiting\n",
      "4f4fb700ef54: Waiting\n",
      "e40e177d8029: Waiting\n",
      "a0dadd11f5a2: Waiting\n",
      "4c472283b8d9: Waiting\n",
      "543a355857b8: Waiting\n",
      "7e3abb0523c6: Waiting\n",
      "f23750648678: Waiting\n",
      "c35d42703408: Waiting\n",
      "7dc69594be62: Waiting\n",
      "0c63232e03cc: Waiting\n",
      "b26ac09c4b43: Waiting\n",
      "a52e29d8420d: Waiting\n",
      "b49b9b9d451a: Waiting\n",
      "16d3b3484dd5: Waiting\n",
      "d887ad56755a: Waiting\n",
      "2c8f62b71b0c: Waiting\n",
      "291ffd9617e9: Waiting\n",
      "3c3a4ad788d8: Waiting\n",
      "7fa01468f251: Waiting\n",
      "f02f7299f416: Waiting\n",
      "520752a43c01: Waiting\n",
      "f62a4edfed0e: Waiting\n",
      "5e65cd11f938: Waiting\n",
      "0a5147a4b1ca: Waiting\n",
      "6e52613138ea: Waiting\n",
      "20378ba0a78d: Waiting\n",
      "60f1fc7b9467: Waiting\n",
      "44b262c4f0d3: Waiting\n",
      "0d8a1e1e3b45: Waiting\n",
      "ebd99ebb20bf: Waiting\n",
      "caeb9ac3c484: Waiting\n",
      "759bf4e69df8: Waiting\n",
      "1cce97595d01: Waiting\n",
      "d5f61f7fb82b: Waiting\n",
      "165e9457107d: Waiting\n",
      "5ce0fd7cd774: Waiting\n",
      "0b311d7060d0: Verifying Checksum\n",
      "0b311d7060d0: Download complete\n",
      "326d76058f67: Verifying Checksum\n",
      "326d76058f67: Download complete\n",
      "846c0b181fff: Verifying Checksum\n",
      "846c0b181fff: Download complete\n",
      "6fc9dd88827c: Verifying Checksum\n",
      "6fc9dd88827c: Download complete\n",
      "ed7e4c52c661: Download complete\n",
      "ab264e292103: Verifying Checksum\n",
      "ab264e292103: Download complete\n",
      "527d1d5ab821: Verifying Checksum\n",
      "527d1d5ab821: Download complete\n",
      "fc46d4e99009: Verifying Checksum\n",
      "fc46d4e99009: Download complete\n",
      "c6611ece70c4: Verifying Checksum\n",
      "c6611ece70c4: Download complete\n",
      "846c0b181fff: Pull complete\n",
      "6fc9dd88827c: Pull complete\n",
      "0b311d7060d0: Pull complete\n",
      "326d76058f67: Pull complete\n",
      "ed7e4c52c661: Pull complete\n",
      "4f05f5570c7a: Verifying Checksum\n",
      "4f05f5570c7a: Download complete\n",
      "9184090e0dd5: Verifying Checksum\n",
      "9184090e0dd5: Download complete\n",
      "be61e05cbc85: Verifying Checksum\n",
      "be61e05cbc85: Download complete\n",
      "4f4fb700ef54: Download complete\n",
      "9ccf692754fa: Verifying Checksum\n",
      "9ccf692754fa: Download complete\n",
      "e40e177d8029: Verifying Checksum\n",
      "e40e177d8029: Download complete\n",
      "4c472283b8d9: Verifying Checksum\n",
      "4c472283b8d9: Download complete\n",
      "543a355857b8: Verifying Checksum\n",
      "543a355857b8: Download complete\n",
      "7e3abb0523c6: Verifying Checksum\n",
      "7e3abb0523c6: Download complete\n",
      "f23750648678: Verifying Checksum\n",
      "f23750648678: Download complete\n",
      "a0dadd11f5a2: Download complete\n",
      "7dc69594be62: Verifying Checksum\n",
      "7dc69594be62: Download complete\n",
      "0c63232e03cc: Download complete\n",
      "b26ac09c4b43: Verifying Checksum\n",
      "b26ac09c4b43: Download complete\n",
      "a52e29d8420d: Verifying Checksum\n",
      "a52e29d8420d: Download complete\n",
      "b49b9b9d451a: Download complete\n",
      "16d3b3484dd5: Verifying Checksum\n",
      "16d3b3484dd5: Download complete\n",
      "d887ad56755a: Verifying Checksum\n",
      "d887ad56755a: Download complete\n",
      "2c8f62b71b0c: Verifying Checksum\n",
      "2c8f62b71b0c: Download complete\n",
      "c35d42703408: Verifying Checksum\n",
      "c35d42703408: Download complete\n",
      "3c3a4ad788d8: Verifying Checksum\n",
      "3c3a4ad788d8: Download complete\n",
      "291ffd9617e9: Verifying Checksum\n",
      "291ffd9617e9: Download complete\n",
      "fe6ff819b45f: Verifying Checksum\n",
      "fe6ff819b45f: Download complete\n",
      "0a5147a4b1ca: Verifying Checksum\n",
      "0a5147a4b1ca: Download complete\n",
      "6e52613138ea: Verifying Checksum\n",
      "6e52613138ea: Download complete\n",
      "20378ba0a78d: Verifying Checksum\n",
      "20378ba0a78d: Download complete\n",
      "60f1fc7b9467: Verifying Checksum\n",
      "60f1fc7b9467: Download complete\n",
      "44b262c4f0d3: Verifying Checksum\n",
      "44b262c4f0d3: Download complete\n",
      "0d8a1e1e3b45: Verifying Checksum\n",
      "0d8a1e1e3b45: Download complete\n",
      "f02f7299f416: Verifying Checksum\n",
      "f02f7299f416: Download complete\n",
      "1cce97595d01: Verifying Checksum\n",
      "1cce97595d01: Download complete\n",
      "759bf4e69df8: Verifying Checksum\n",
      "759bf4e69df8: Download complete\n",
      "165e9457107d: Verifying Checksum\n",
      "165e9457107d: Download complete\n",
      "5ce0fd7cd774: Verifying Checksum\n",
      "5ce0fd7cd774: Download complete\n",
      "7fa01468f251: Verifying Checksum\n",
      "7fa01468f251: Download complete\n",
      "d5f61f7fb82b: Verifying Checksum\n",
      "d5f61f7fb82b: Download complete\n",
      "f62a4edfed0e: Verifying Checksum\n",
      "f62a4edfed0e: Download complete\n",
      "5e65cd11f938: Verifying Checksum\n",
      "5e65cd11f938: Download complete\n",
      "ebd99ebb20bf: Verifying Checksum\n",
      "ebd99ebb20bf: Download complete\n",
      "caeb9ac3c484: Verifying Checksum\n",
      "caeb9ac3c484: Download complete\n",
      "520752a43c01: Verifying Checksum\n",
      "520752a43c01: Download complete\n",
      "4f05f5570c7a: Pull complete\n",
      "ab264e292103: Pull complete\n",
      "527d1d5ab821: Pull complete\n",
      "fc46d4e99009: Pull complete\n",
      "9ccf692754fa: Pull complete\n",
      "c6611ece70c4: Pull complete\n",
      "fe6ff819b45f: Pull complete\n",
      "9184090e0dd5: Pull complete\n",
      "be61e05cbc85: Pull complete\n",
      "4f4fb700ef54: Pull complete\n",
      "e40e177d8029: Pull complete\n",
      "a0dadd11f5a2: Pull complete\n",
      "4c472283b8d9: Pull complete\n",
      "543a355857b8: Pull complete\n",
      "7e3abb0523c6: Pull complete\n",
      "f23750648678: Pull complete\n",
      "c35d42703408: Pull complete\n",
      "7dc69594be62: Pull complete\n",
      "0c63232e03cc: Pull complete\n",
      "b26ac09c4b43: Pull complete\n",
      "a52e29d8420d: Pull complete\n",
      "b49b9b9d451a: Pull complete\n",
      "16d3b3484dd5: Pull complete\n",
      "d887ad56755a: Pull complete\n",
      "2c8f62b71b0c: Pull complete\n",
      "291ffd9617e9: Pull complete\n",
      "3c3a4ad788d8: Pull complete\n",
      "f02f7299f416: Pull complete\n",
      "520752a43c01: Pull complete\n",
      "0a5147a4b1ca: Pull complete\n",
      "6e52613138ea: Pull complete\n",
      "20378ba0a78d: Pull complete\n",
      "60f1fc7b9467: Pull complete\n",
      "44b262c4f0d3: Pull complete\n",
      "0d8a1e1e3b45: Pull complete\n",
      "759bf4e69df8: Pull complete\n",
      "1cce97595d01: Pull complete\n",
      "d5f61f7fb82b: Pull complete\n",
      "165e9457107d: Pull complete\n",
      "5ce0fd7cd774: Pull complete\n",
      "7fa01468f251: Pull complete\n",
      "f62a4edfed0e: Pull complete\n",
      "5e65cd11f938: Pull complete\n",
      "ebd99ebb20bf: Pull complete\n",
      "caeb9ac3c484: Pull complete\n",
      "Digest: sha256:7ef68f36357c7efc01e2e896f34894f7c37e040bc2572c9b73660fb211411797\n",
      "Status: Downloaded newer image for us-docker.pkg.dev/vertex-ai/training/tf-gpu.2-8:latest\n",
      " ---> ef4594c77ea9\n",
      "Step 2/5 : RUN pip install -U cloudml-hypertune\n",
      " ---> Running in 91f75de696e0\n",
      "Requirement already satisfied: cloudml-hypertune in /opt/conda/lib/python3.7/site-packages (0.1.0.dev6)\n",
      "\u001b[91mWARNING: Running pip as the 'root' user can result in broken permissions and conflicting behaviour with the system package manager. It is recommended to use a virtual environment instead: https://pip.pypa.io/warnings/venv\n",
      "\u001b[0mRemoving intermediate container 91f75de696e0\n",
      " ---> 3b91d3f9dcfa\n",
      "Step 3/5 : COPY . /code\n",
      " ---> 491fc37e3dd4\n",
      "Step 4/5 : WORKDIR /code\n",
      " ---> Running in 7120f2c1a0af\n",
      "Removing intermediate container 7120f2c1a0af\n",
      " ---> b0857947c8dc\n",
      "Step 5/5 : ENTRYPOINT [\"python3\", \"-m\", \"trainer.task\"]\n",
      " ---> Running in 59d828508279\n",
      "Removing intermediate container 59d828508279\n",
      " ---> 7900833ac1e2\n",
      "Successfully built 7900833ac1e2\n",
      "Successfully tagged gcr.io/qwiklabs-asl-04-76d2f9d7a5ae/rutu_image_ct_phase_contrast_kfp_3:latest\n",
      "PUSH\n",
      "Pushing gcr.io/qwiklabs-asl-04-76d2f9d7a5ae/rutu_image_ct_phase_contrast_kfp_3:latest\n",
      "The push refers to repository [gcr.io/qwiklabs-asl-04-76d2f9d7a5ae/rutu_image_ct_phase_contrast_kfp_3]\n",
      "182063ff6c37: Preparing\n",
      "5fafe642482c: Preparing\n",
      "e42695c7b436: Preparing\n",
      "e42695c7b436: Preparing\n",
      "72f0f663075e: Preparing\n",
      "753a867bc8de: Preparing\n",
      "ded3db6426d7: Preparing\n",
      "a62e8c2b9af7: Preparing\n",
      "a62e8c2b9af7: Preparing\n",
      "0b7febffb235: Preparing\n",
      "9eea84a5ce85: Preparing\n",
      "01f1fc38076a: Preparing\n",
      "4bb682b46174: Preparing\n",
      "4bf71af65479: Preparing\n",
      "1aed5478e9e9: Preparing\n",
      "a8bcd592b498: Preparing\n",
      "a8bcd592b498: Preparing\n",
      "c08cb98802a3: Preparing\n",
      "e22221d5c5b7: Preparing\n",
      "83c0986a2b1b: Preparing\n",
      "cfe72787a06d: Preparing\n",
      "47c345a2300a: Preparing\n",
      "9a1e5fd06682: Preparing\n",
      "01693e705a0a: Preparing\n",
      "f35619b9d1c2: Preparing\n",
      "681824453a16: Preparing\n",
      "3e360ac34e30: Preparing\n",
      "71d2bc7ae6e0: Preparing\n",
      "6ea20af76cb3: Preparing\n",
      "ccf6ba7be883: Preparing\n",
      "38657ad77bd3: Preparing\n",
      "63d902d21034: Preparing\n",
      "330a73ca3617: Preparing\n",
      "04d67e262c77: Preparing\n",
      "7611685eda9b: Preparing\n",
      "1ff207077b4a: Preparing\n",
      "45a171197a5b: Preparing\n",
      "b4ef3fe96873: Preparing\n",
      "3abd3da6f80b: Preparing\n",
      "56bed34deb65: Preparing\n",
      "5f70bf18a086: Preparing\n",
      "e539c79eec89: Preparing\n",
      "ff8a40fc828e: Preparing\n",
      "b3936e4c67d2: Preparing\n",
      "07d37209b7a9: Preparing\n",
      "fed0e8aa65b5: Preparing\n",
      "ad8fec0b36f1: Preparing\n",
      "3a217af3edf9: Preparing\n",
      "3297f5de02be: Preparing\n",
      "f3717d7fdfb7: Preparing\n",
      "e1eace4c0976: Preparing\n",
      "959a7375cb04: Preparing\n",
      "d79c672e1e8b: Preparing\n",
      "7b7c9e761223: Preparing\n",
      "0002c93bdb37: Preparing\n",
      "63d902d21034: Waiting\n",
      "ded3db6426d7: Waiting\n",
      "a62e8c2b9af7: Waiting\n",
      "0b7febffb235: Waiting\n",
      "9eea84a5ce85: Waiting\n",
      "01f1fc38076a: Waiting\n",
      "4bb682b46174: Waiting\n",
      "4bf71af65479: Waiting\n",
      "1aed5478e9e9: Waiting\n",
      "a8bcd592b498: Waiting\n",
      "c08cb98802a3: Waiting\n",
      "e22221d5c5b7: Waiting\n",
      "83c0986a2b1b: Waiting\n",
      "cfe72787a06d: Waiting\n",
      "47c345a2300a: Waiting\n",
      "9a1e5fd06682: Waiting\n",
      "01693e705a0a: Waiting\n",
      "f35619b9d1c2: Waiting\n",
      "681824453a16: Waiting\n",
      "3e360ac34e30: Waiting\n",
      "71d2bc7ae6e0: Waiting\n",
      "6ea20af76cb3: Waiting\n",
      "ccf6ba7be883: Waiting\n",
      "38657ad77bd3: Waiting\n",
      "330a73ca3617: Waiting\n",
      "04d67e262c77: Waiting\n",
      "7611685eda9b: Waiting\n",
      "1ff207077b4a: Waiting\n",
      "45a171197a5b: Waiting\n",
      "b4ef3fe96873: Waiting\n",
      "3abd3da6f80b: Waiting\n",
      "56bed34deb65: Waiting\n",
      "5f70bf18a086: Waiting\n",
      "e539c79eec89: Waiting\n",
      "ff8a40fc828e: Waiting\n",
      "b3936e4c67d2: Waiting\n",
      "07d37209b7a9: Waiting\n",
      "fed0e8aa65b5: Waiting\n",
      "ad8fec0b36f1: Waiting\n",
      "3a217af3edf9: Waiting\n",
      "3297f5de02be: Waiting\n",
      "f3717d7fdfb7: Waiting\n",
      "e1eace4c0976: Waiting\n",
      "959a7375cb04: Waiting\n",
      "d79c672e1e8b: Waiting\n",
      "7b7c9e761223: Waiting\n",
      "0002c93bdb37: Waiting\n",
      "e42695c7b436: Layer already exists\n",
      "72f0f663075e: Layer already exists\n",
      "753a867bc8de: Layer already exists\n",
      "ded3db6426d7: Layer already exists\n",
      "0b7febffb235: Layer already exists\n",
      "a62e8c2b9af7: Layer already exists\n",
      "9eea84a5ce85: Layer already exists\n",
      "01f1fc38076a: Layer already exists\n",
      "4bb682b46174: Layer already exists\n",
      "4bf71af65479: Layer already exists\n",
      "1aed5478e9e9: Layer already exists\n",
      "a8bcd592b498: Layer already exists\n",
      "c08cb98802a3: Layer already exists\n",
      "e22221d5c5b7: Layer already exists\n",
      "83c0986a2b1b: Layer already exists\n",
      "cfe72787a06d: Layer already exists\n",
      "47c345a2300a: Layer already exists\n",
      "9a1e5fd06682: Layer already exists\n",
      "01693e705a0a: Layer already exists\n",
      "f35619b9d1c2: Layer already exists\n",
      "681824453a16: Layer already exists\n",
      "3e360ac34e30: Layer already exists\n",
      "71d2bc7ae6e0: Layer already exists\n",
      "6ea20af76cb3: Layer already exists\n",
      "ccf6ba7be883: Layer already exists\n",
      "38657ad77bd3: Layer already exists\n",
      "63d902d21034: Layer already exists\n",
      "330a73ca3617: Layer already exists\n",
      "04d67e262c77: Layer already exists\n",
      "7611685eda9b: Layer already exists\n",
      "1ff207077b4a: Layer already exists\n",
      "45a171197a5b: Layer already exists\n",
      "b4ef3fe96873: Layer already exists\n",
      "56bed34deb65: Layer already exists\n",
      "3abd3da6f80b: Layer already exists\n",
      "5f70bf18a086: Layer already exists\n",
      "e539c79eec89: Layer already exists\n",
      "ff8a40fc828e: Layer already exists\n",
      "b3936e4c67d2: Layer already exists\n",
      "fed0e8aa65b5: Layer already exists\n",
      "07d37209b7a9: Layer already exists\n",
      "ad8fec0b36f1: Layer already exists\n",
      "3a217af3edf9: Layer already exists\n",
      "3297f5de02be: Layer already exists\n",
      "f3717d7fdfb7: Layer already exists\n",
      "e1eace4c0976: Layer already exists\n",
      "959a7375cb04: Layer already exists\n",
      "d79c672e1e8b: Layer already exists\n",
      "0002c93bdb37: Layer already exists\n",
      "182063ff6c37: Pushed\n",
      "7b7c9e761223: Layer already exists\n",
      "5fafe642482c: Pushed\n",
      "latest: digest: sha256:61ed7bac3d9135799ba6c7a01764f69270c67101507706621adfa267115d8868 size: 11831\n",
      "DONE\n",
      "--------------------------------------------------------------------------------\n",
      "ID                                    CREATE_TIME                DURATION  SOURCE                                                                                                      IMAGES                                                                            STATUS\n",
      "e84d7d7d-737f-4410-b295-d7beda20c43f  2023-04-07T13:43:48+00:00  10M10S    gs://qwiklabs-asl-04-76d2f9d7a5ae_cloudbuild/source/1680875027.835113-7b8ccec297f246e688addef34d3aff08.tgz  gcr.io/qwiklabs-asl-04-76d2f9d7a5ae/rutu_image_ct_phase_contrast_kfp_3 (+1 more)  SUCCESS\n"
     ]
    }
   ],
   "source": [
    "!gcloud builds submit --timeout 40m --tag $TRAINING_CONTAINER_IMAGE_URI ."
   ]
  },
  {
   "cell_type": "code",
   "execution_count": 168,
   "id": "363e89e3-d2c4-4703-9824-9dc836944090",
   "metadata": {},
   "outputs": [],
   "source": [
    "SERVING_CONTAINER_IMAGE_URI = (\n",
    "    \"us-docker.pkg.dev/vertex-ai/prediction/tf2-gpu.2-8:latest\"\n",
    ")"
   ]
  },
  {
   "cell_type": "code",
   "execution_count": 169,
   "id": "09d6a144-51ca-4d7b-b405-e9ec6c541f54",
   "metadata": {},
   "outputs": [
    {
     "name": "stdout",
     "output_type": "stream",
     "text": [
      "Writing ./pipeline_prebuilt_jay_3.py\n"
     ]
    }
   ],
   "source": [
    "%%writefile ./pipeline_prebuilt_jay_3.py\n",
    "\n",
    "\n",
    "\"\"\"Kubeflow CT Pipeline.\"\"\"\n",
    "\n",
    "import os\n",
    "\n",
    "from google.cloud.aiplatform import hyperparameter_tuning as hpt\n",
    "from google_cloud_pipeline_components.aiplatform import (\n",
    "    EndpointCreateOp,\n",
    "    ModelDeployOp,\n",
    "    ModelUploadOp,\n",
    ")\n",
    "from google_cloud_pipeline_components.experimental import (\n",
    "    hyperparameter_tuning_job,\n",
    ")\n",
    "from google_cloud_pipeline_components.experimental.custom_job import (\n",
    "    CustomTrainingJobOp,\n",
    ")\n",
    "from kfp.v2 import dsl\n",
    "\n",
    "PIPELINE_ROOT = os.getenv(\"PIPELINE_ROOT\")\n",
    "PROJECT_ID = os.getenv(\"PROJECT_ID\")\n",
    "REGION = os.getenv(\"REGION\")\n",
    "\n",
    "TRAINING_CONTAINER_IMAGE_URI = os.getenv(\"TRAINING_CONTAINER_IMAGE_URI\")\n",
    "SERVING_CONTAINER_IMAGE_URI = os.getenv(\"SERVING_CONTAINER_IMAGE_URI\")\n",
    "SERVING_MACHINE_TYPE = os.getenv(\"SERVING_MACHINE_TYPE\", \"n1-standard-16\")\n",
    "\n",
    "TRAINING_FILE_PATH = os.getenv(\"TRAINING_FILE_PATH\")\n",
    "VALIDATION_FILE_PATH = os.getenv(\"VALIDATION_FILE_PATH\")\n",
    "\n",
    "MAX_TRIAL_COUNT = int(os.getenv(\"MAX_TRIAL_COUNT\", \"30\"))\n",
    "PARALLEL_TRIAL_COUNT = int(os.getenv(\"PARALLEL_TRIAL_COUNT\", \"5\"))\n",
    "THRESHOLD = float(os.getenv(\"THRESHOLD\", \"0.6\"))\n",
    "\n",
    "PIPELINE_NAME = os.getenv(\"PIPELINE_NAME\", \"rutu-ct-pipeline-3\")\n",
    "BASE_OUTPUT_DIR = os.getenv(\"BASE_OUTPUT_DIR\", PIPELINE_ROOT)\n",
    "MODEL_DISPLAY_NAME = os.getenv(\"MODEL_DISPLAY_NAME\", PIPELINE_NAME)\n",
    "\n",
    "\n",
    "\n",
    "\n",
    "\n",
    "@dsl.pipeline(\n",
    "    name=f\"{PIPELINE_NAME}-kfp-pipeline\",\n",
    "    description=\"Kubeflow pipeline that tunes, trains, and deploys on Vertex\",\n",
    "    pipeline_root=PIPELINE_ROOT,\n",
    ")\n",
    "def create_pipeline():\n",
    "\n",
    "    worker_pool_specs = [\n",
    "        {\n",
    "            \"machine_spec\": {\n",
    "                \"machine_type\": \"n1-highmem-16\",\n",
    "                \"accelerator_type\": \"NVIDIA_TESLA_P100\",\n",
    "                \"accelerator_count\": 2,\n",
    "            },\n",
    "            \"replica_count\": 1,\n",
    "            \"container_spec\": {\n",
    "                \"image_uri\": TRAINING_CONTAINER_IMAGE_URI,\n",
    "                \"args\": [\n",
    "                    f\"--train_data_path={TRAINING_FILE_PATH}\",\n",
    "                    f\"--eval_data_path={VALIDATION_FILE_PATH}\",\n",
    "                    f\"--output_dir={BASE_OUTPUT_DIR}\",\n",
    "                    \"--hptune\",\n",
    "                ],\n",
    "            },\n",
    "        }\n",
    "    ]\n",
    "      \n",
    "\n",
    "    metric_spec = hyperparameter_tuning_job.serialize_metrics(\n",
    "        {\"final_val_accuracy\": \"maximize\"}\n",
    "    )\n",
    "\n",
    "    parameter_spec = hyperparameter_tuning_job.serialize_parameters(\n",
    "        {\n",
    "            \"dropout_rate\": hpt.DoubleParameterSpec(\n",
    "                min=1.0e-3, max=4.0e-1, scale=\"log\"\n",
    "            ),\n",
    "            \"l2_regularization_lambda\": hpt.DoubleParameterSpec(\n",
    "                min=1.0e-3, max=4.0e-1, scale=\"log\"\n",
    "            ),\n",
    "        }\n",
    "    )\n",
    "\n",
    "    hp_tuning_task = hyperparameter_tuning_job.HyperparameterTuningJobRunOp(\n",
    "        display_name=f\"{PIPELINE_NAME}-kfp-tuning-job\",\n",
    "        project=PROJECT_ID,\n",
    "        location=REGION,\n",
    "        worker_pool_specs=worker_pool_specs,\n",
    "        study_spec_metrics=metric_spec,\n",
    "        study_spec_parameters=parameter_spec,\n",
    "        max_trial_count=MAX_TRIAL_COUNT,\n",
    "        parallel_trial_count=PARALLEL_TRIAL_COUNT,\n",
    "        base_output_directory=PIPELINE_ROOT,\n",
    "    )\n",
    "\n",
    "    trials_task = hyperparameter_tuning_job.GetTrialsOp(\n",
    "        gcp_resources=hp_tuning_task.outputs[\"gcp_resources\"]\n",
    "    )\n",
    "\n",
    "    best_hyperparameters_task = (\n",
    "        hyperparameter_tuning_job.GetBestHyperparametersOp(\n",
    "            trials=trials_task.output, study_spec_metrics=metric_spec\n",
    "        )\n",
    "    )\n",
    "    \n",
    "    \n",
    "    # Construct new worker_pool_specs and\n",
    "    # train new model based on best hyperparameters\n",
    "    worker_pool_specs_task = hyperparameter_tuning_job.GetWorkerPoolSpecsOp(\n",
    "        best_hyperparameters=best_hyperparameters_task.output,\n",
    "        worker_pool_specs=[\n",
    "            {\n",
    "                \"machine_spec\": {\"machine_type\": \"n1-highmem-16\",\n",
    "                                 \"accelerator_type\": \"NVIDIA_TESLA_P100\",\n",
    "                                 \"accelerator_count\": 2},\n",
    "                \"replica_count\": 1,\n",
    "                \"container_spec\": {\n",
    "                    \"image_uri\": TRAINING_CONTAINER_IMAGE_URI,\n",
    "                    \"args\": [\n",
    "                        f\"--train_data_path={TRAINING_FILE_PATH}\",\n",
    "                        f\"--eval_data_path={VALIDATION_FILE_PATH}\",\n",
    "                        f\"--output_dir={BASE_OUTPUT_DIR}\",\n",
    "                    ],\n",
    "                },\n",
    "            }\n",
    "        ],\n",
    "    )\n",
    "\n",
    "    training_task = CustomTrainingJobOp(\n",
    "        project=PROJECT_ID,\n",
    "        location=REGION,\n",
    "        display_name=f\"{PIPELINE_NAME}-kfp-training-job\",\n",
    "        worker_pool_specs=worker_pool_specs_task.output,\n",
    "        base_output_directory=BASE_OUTPUT_DIR,\n",
    "    )\n",
    "\n",
    "    model_upload_task = ModelUploadOp(\n",
    "        project=PROJECT_ID,\n",
    "        display_name=f\"{PIPELINE_NAME}-kfp-model-upload-job\",\n",
    "        artifact_uri=f\"{BASE_OUTPUT_DIR}/model\",\n",
    "        serving_container_image_uri=SERVING_CONTAINER_IMAGE_URI,\n",
    "    )\n",
    "    model_upload_task.after(training_task)\n",
    "\n",
    "    endpoint_create_task = EndpointCreateOp(\n",
    "        project=PROJECT_ID,\n",
    "        display_name=f\"{PIPELINE_NAME}-kfp-create-endpoint-job\",\n",
    "    )\n",
    "    endpoint_create_task.after(model_upload_task)\n",
    "\n",
    "    model_deploy_op = ModelDeployOp(  # pylint: disable=unused-variable\n",
    "        model=model_upload_task.outputs[\"model\"],\n",
    "        endpoint=endpoint_create_task.outputs[\"endpoint\"],\n",
    "        deployed_model_display_name=MODEL_DISPLAY_NAME,\n",
    "        dedicated_resources_machine_type=SERVING_MACHINE_TYPE,\n",
    "        dedicated_resources_min_replica_count=1,\n",
    "        dedicated_resources_max_replica_count=1,\n",
    "    )\n",
    "    \n"
   ]
  },
  {
   "cell_type": "markdown",
   "id": "81d25ab9-af4c-437b-8653-07ff36849829",
   "metadata": {},
   "source": [
    "{\n",
    "  \"studySpec\": {\n",
    "    \"metrics\": [\n",
    "      {\n",
    "        \"metricId\": \"final_val_accuracy\",\n",
    "        \"goal\": \"MAXIMIZE\"\n",
    "      }\n",
    "    ],\n",
    "    \"parameters\": [\n",
    "      {\n",
    "        \"parameterId\": \"dropout_rate\",\n",
    "        \"doubleValueSpec\": {\n",
    "          \"minValue\": 0.001,\n",
    "          \"maxValue\": 0.4\n",
    "        },\n",
    "        \"scaleType\": \"UNIT_LOG_SCALE\"\n",
    "      },\n",
    "      {\n",
    "        \"parameterId\": \"l2_regularization_lambda\",\n",
    "        \"doubleValueSpec\": {\n",
    "          \"minValue\": 0.001,\n",
    "          \"maxValue\": 0.4\n",
    "        },\n",
    "        \"scaleType\": \"UNIT_LOG_SCALE\"\n",
    "      }\n",
    "    ],\n",
    "    \"measurementSelectionType\": \"BEST_MEASUREMENT\"\n",
    "  },\n",
    "  \"trialJobSpec\": {\n",
    "    \"workerPoolSpecs\": [\n",
    "      {\n",
    "        \"machineSpec\": {\n",
    "          \"machineType\": \"n1-highmem-16\",\n",
    "          \"acceleratorType\": \"NVIDIA_TESLA_P100\",\n",
    "          \"acceleratorCount\": 2\n",
    "        },\n",
    "        \"replicaCount\": \"1\",\n",
    "        \"diskSpec\": {\n",
    "          \"bootDiskType\": \"pd-ssd\",\n",
    "          \"bootDiskSizeGb\": 100\n",
    "        },\n",
    "        \"containerSpec\": {\n",
    "          \"imageUri\": \"gcr.io/qwiklabs-asl-04-76d2f9d7a5ae/trainer_image_ct_phase_contrast_vertex:latest\",\n",
    "          \"args\": [\n",
    "            \"--train_data_path=gs://capstone-datasets/train_3d.csv\",\n",
    "            \"--eval_data_path=gs://capstone-datasets/valid_3d.csv\",\n",
    "            \"--output_dir=gs://qwiklabs-asl-04-76d2f9d7a5ae-kfp-artifact-store/models/20230331143721\",\n",
    "            \"--hptune\"\n",
    "          ]\n",
    "        }\n",
    "      }\n",
    "    ],\n",
    "    \"baseOutputDirectory\": {\n",
    "      \"outputUriPrefix\": \"gs://qwiklabs-asl-04-76d2f9d7a5ae-kfp-artifact-store/pipeline\"\n",
    "    }\n",
    "  }\n",
    "}"
   ]
  },
  {
   "cell_type": "code",
   "execution_count": null,
   "id": "a6ac601b-dbc4-4bb6-b1d5-52a4592a3389",
   "metadata": {},
   "outputs": [],
   "source": []
  },
  {
   "cell_type": "code",
   "execution_count": 17,
   "id": "ddebf02a-d968-4db0-9653-0ce88f4c6e03",
   "metadata": {
    "pycharm": {
     "name": "#%%\n"
    }
   },
   "outputs": [],
   "source": [
    "### Compile the pipeline"
   ]
  },
  {
   "cell_type": "code",
   "execution_count": 170,
   "id": "094d3188-092f-4b7c-874f-2c8d78408cdf",
   "metadata": {
    "pycharm": {
     "name": "#%%\n"
    }
   },
   "outputs": [
    {
     "name": "stdout",
     "output_type": "stream",
     "text": [
      "env: PIPELINE_ROOT=gs://rutu-bucket\n",
      "env: PROJECT_ID=qwiklabs-asl-04-76d2f9d7a5ae\n",
      "env: REGION=us-central1\n",
      "env: SERVING_CONTAINER_IMAGE_URI=us-docker.pkg.dev/vertex-ai/prediction/tf2-gpu.2-8:latest\n",
      "env: TRAINING_CONTAINER_IMAGE_URI=gcr.io/qwiklabs-asl-04-76d2f9d7a5ae/rutu_image_ct_phase_contrast_kfp_3:latest\n",
      "env: TRAINING_FILE_PATH=gs://rutu-bucket/train_3d.csv\n",
      "env: VALIDATION_FILE_PATH=gs://rutu-bucket/valid_3d.csv\n",
      "env: BASE_OUTPUT_DIR=gs://rutu-bucket/models/20230407135739\n"
     ]
    }
   ],
   "source": [
    "#ARTIFACT_STORE = f\"gs://{PROJECT_ID}-kfp-artifact-store\"\n",
    "ARTIFACT_STORE = f\"gs://rutu-bucket\"\n",
    "#PIPELINE_ROOT = f\"{ARTIFACT_STORE}/pipeline\"\n",
    "PIPELINE_ROOT = f\"gs://rutu-bucket\"\n",
    "#DATA_ROOT = f\"{ARTIFACT_STORE}/data\"\n",
    "#DATA_ROOT = f\"gs://capstone-datasets\"\n",
    "DATA_ROOT = f\"gs://rutu-bucket\"\n",
    "\n",
    "#TRAINING_FILE_PATH = f\"{DATA_ROOT}/training/dataset.csv\"\n",
    "TRAINING_FILE_PATH = f\"{DATA_ROOT}/train_3d.csv\"\n",
    "#VALIDATION_FILE_PATH = f\"{DATA_ROOT}/validation/dataset.csv\"\n",
    "VALIDATION_FILE_PATH = f\"{DATA_ROOT}/valid_3d.csv\"\n",
    "\n",
    "TIMESTAMP = datetime.now().strftime(\"%Y%m%d%H%M%S\")\n",
    "BASE_OUTPUT_DIR = f\"{ARTIFACT_STORE}/models/{TIMESTAMP}\"\n",
    "\n",
    "#region overide\n",
    "#REGION='us (multiple regions in United States)'\n",
    "REGION = \"us-central1\"\n",
    "\n",
    "\n",
    "%env PIPELINE_ROOT={PIPELINE_ROOT}\n",
    "%env PROJECT_ID={PROJECT_ID}\n",
    "%env REGION={REGION}\n",
    "%env SERVING_CONTAINER_IMAGE_URI={SERVING_CONTAINER_IMAGE_URI}\n",
    "%env TRAINING_CONTAINER_IMAGE_URI={TRAINING_CONTAINER_IMAGE_URI}\n",
    "%env TRAINING_FILE_PATH={TRAINING_FILE_PATH}\n",
    "%env VALIDATION_FILE_PATH={VALIDATION_FILE_PATH}\n",
    "%env BASE_OUTPUT_DIR={BASE_OUTPUT_DIR}"
   ]
  },
  {
   "cell_type": "code",
   "execution_count": 171,
   "id": "d1b9b096-caf3-4365-8d94-e4f75d2d57c4",
   "metadata": {},
   "outputs": [],
   "source": [
    "#!gsutil ls -R gs://capstone-datasets/valid_3d.csv"
   ]
  },
  {
   "cell_type": "markdown",
   "id": "8f539cc3-15b7-4de6-98a1-d784bad42912",
   "metadata": {
    "pycharm": {
     "name": "#%% md\n"
    }
   },
   "source": [
    "Let us make sure that the `ARTIFACT_STORE` has been created, and let us create it if not:"
   ]
  },
  {
   "cell_type": "code",
   "execution_count": 172,
   "id": "88565388-e96e-4916-a9f0-38ab42433ccc",
   "metadata": {
    "pycharm": {
     "name": "#%%\n"
    }
   },
   "outputs": [
    {
     "name": "stdout",
     "output_type": "stream",
     "text": [
      "gs://rutu-bucket/\n"
     ]
    }
   ],
   "source": [
    "!gsutil ls | grep ^{ARTIFACT_STORE}/$ || gsutil mb -l {REGION} {ARTIFACT_STORE}"
   ]
  },
  {
   "cell_type": "markdown",
   "id": "1297d159-50af-494d-bcb2-a707c98374be",
   "metadata": {
    "pycharm": {
     "name": "#%% md\n"
    }
   },
   "source": [
    "#### Use the CLI compiler to compile the pipeline"
   ]
  },
  {
   "cell_type": "code",
   "execution_count": 173,
   "id": "22b9ca9c-8322-4dcf-af68-b1f2c78f4eb3",
   "metadata": {
    "pycharm": {
     "name": "#%%\n"
    }
   },
   "outputs": [
    {
     "data": {
      "text/plain": [
       "'rutu_ct_pipeline_new1.json'"
      ]
     },
     "execution_count": 173,
     "metadata": {},
     "output_type": "execute_result"
    }
   ],
   "source": [
    "PIPELINE_JSON = \"rutu_ct_pipeline_new1.json\"\n",
    "PIPELINE_JSON\n"
   ]
  },
  {
   "cell_type": "code",
   "execution_count": 174,
   "id": "1872de4b-d745-4504-a5df-2ad4a9796b88",
   "metadata": {
    "pycharm": {
     "name": "#%%\n"
    }
   },
   "outputs": [],
   "source": [
    "#!cat pipeline_prebuilt.py"
   ]
  },
  {
   "cell_type": "code",
   "execution_count": 175,
   "id": "28128ec5-fc4d-404e-a493-11409cf188d8",
   "metadata": {
    "pycharm": {
     "name": "#%%\n"
    }
   },
   "outputs": [
    {
     "name": "stdout",
     "output_type": "stream",
     "text": [
      "/home/jupyter/.local/lib/python3.7/site-packages/kfp/v2/compiler/compiler.py:1293: FutureWarning: APIs imported from the v1 namespace (e.g. kfp.dsl, kfp.components, etc) will not be supported by the v2 compiler since v2.0.0\n",
      "  category=FutureWarning,\n"
     ]
    }
   ],
   "source": [
    "!dsl-compile-v2 --py pipeline_prebuilt_jay_3.py --output $PIPELINE_JSON"
   ]
  },
  {
   "cell_type": "markdown",
   "id": "36848a6a-a20c-4611-9460-857dbd649fc3",
   "metadata": {
    "pycharm": {
     "name": "#%% md\n"
    }
   },
   "source": [
    "**Note:** You can also use the Python SDK to compile the pipeline:\n",
    "\n",
    "```python\n",
    "from kfp.v2 import compiler\n",
    "\n",
    "compiler.Compiler().compile(\n",
    "    pipeline_func=create_pipeline, \n",
    "    package_path=PIPELINE_JSON,\n",
    ")\n",
    "\n",
    "```"
   ]
  },
  {
   "cell_type": "code",
   "execution_count": 176,
   "id": "e5818711-6a27-40a3-8d2a-59b561e984ee",
   "metadata": {
    "jupyter": {
     "source_hidden": true
    },
    "pycharm": {
     "name": "#%%\n"
    },
    "tags": []
   },
   "outputs": [
    {
     "name": "stdout",
     "output_type": "stream",
     "text": [
      "{\n",
      "  \"pipelineSpec\": {\n",
      "    \"components\": {\n",
      "      \"comp-custom-training-job\": {\n",
      "        \"executorLabel\": \"exec-custom-training-job\",\n",
      "        \"inputDefinitions\": {\n",
      "          \"parameters\": {\n",
      "            \"base_output_directory\": {\n",
      "              \"type\": \"STRING\"\n",
      "            },\n"
     ]
    }
   ],
   "source": [
    "!head {PIPELINE_JSON}"
   ]
  },
  {
   "cell_type": "markdown",
   "id": "4158eca6-9bab-4ff4-b959-39674d54820c",
   "metadata": {
    "pycharm": {
     "name": "#%% md\n"
    }
   },
   "source": [
    "### Deploy the pipeline package"
   ]
  },
  {
   "cell_type": "code",
   "execution_count": 177,
   "id": "80af2fc7-c2a6-4e5b-b516-856e29085b5a",
   "metadata": {
    "pycharm": {
     "name": "#%%\n"
    }
   },
   "outputs": [
    {
     "name": "stdout",
     "output_type": "stream",
     "text": [
      "Creating PipelineJob\n",
      "PipelineJob created. Resource name: projects/146339387885/locations/us-central1/pipelineJobs/rutu-ct-pipeline-3-kfp-pipeline-20230407135802\n",
      "To use this PipelineJob in another session:\n",
      "pipeline_job = aiplatform.PipelineJob.get('projects/146339387885/locations/us-central1/pipelineJobs/rutu-ct-pipeline-3-kfp-pipeline-20230407135802')\n",
      "View Pipeline Job:\n",
      "https://console.cloud.google.com/vertex-ai/locations/us-central1/pipelines/runs/rutu-ct-pipeline-3-kfp-pipeline-20230407135802?project=146339387885\n",
      "PipelineJob projects/146339387885/locations/us-central1/pipelineJobs/rutu-ct-pipeline-3-kfp-pipeline-20230407135802 current state:\n",
      "PipelineState.PIPELINE_STATE_RUNNING\n",
      "PipelineJob projects/146339387885/locations/us-central1/pipelineJobs/rutu-ct-pipeline-3-kfp-pipeline-20230407135802 current state:\n",
      "PipelineState.PIPELINE_STATE_RUNNING\n",
      "PipelineJob projects/146339387885/locations/us-central1/pipelineJobs/rutu-ct-pipeline-3-kfp-pipeline-20230407135802 current state:\n",
      "PipelineState.PIPELINE_STATE_RUNNING\n",
      "PipelineJob projects/146339387885/locations/us-central1/pipelineJobs/rutu-ct-pipeline-3-kfp-pipeline-20230407135802 current state:\n",
      "PipelineState.PIPELINE_STATE_RUNNING\n",
      "PipelineJob projects/146339387885/locations/us-central1/pipelineJobs/rutu-ct-pipeline-3-kfp-pipeline-20230407135802 current state:\n",
      "PipelineState.PIPELINE_STATE_RUNNING\n",
      "PipelineJob projects/146339387885/locations/us-central1/pipelineJobs/rutu-ct-pipeline-3-kfp-pipeline-20230407135802 current state:\n",
      "PipelineState.PIPELINE_STATE_RUNNING\n",
      "PipelineJob projects/146339387885/locations/us-central1/pipelineJobs/rutu-ct-pipeline-3-kfp-pipeline-20230407135802 current state:\n",
      "PipelineState.PIPELINE_STATE_RUNNING\n",
      "PipelineJob projects/146339387885/locations/us-central1/pipelineJobs/rutu-ct-pipeline-3-kfp-pipeline-20230407135802 current state:\n",
      "PipelineState.PIPELINE_STATE_RUNNING\n",
      "PipelineJob projects/146339387885/locations/us-central1/pipelineJobs/rutu-ct-pipeline-3-kfp-pipeline-20230407135802 current state:\n",
      "PipelineState.PIPELINE_STATE_RUNNING\n",
      "PipelineJob projects/146339387885/locations/us-central1/pipelineJobs/rutu-ct-pipeline-3-kfp-pipeline-20230407135802 current state:\n",
      "PipelineState.PIPELINE_STATE_RUNNING\n",
      "PipelineJob projects/146339387885/locations/us-central1/pipelineJobs/rutu-ct-pipeline-3-kfp-pipeline-20230407135802 current state:\n",
      "PipelineState.PIPELINE_STATE_RUNNING\n",
      "PipelineJob projects/146339387885/locations/us-central1/pipelineJobs/rutu-ct-pipeline-3-kfp-pipeline-20230407135802 current state:\n",
      "PipelineState.PIPELINE_STATE_RUNNING\n",
      "PipelineJob projects/146339387885/locations/us-central1/pipelineJobs/rutu-ct-pipeline-3-kfp-pipeline-20230407135802 current state:\n",
      "PipelineState.PIPELINE_STATE_RUNNING\n",
      "PipelineJob projects/146339387885/locations/us-central1/pipelineJobs/rutu-ct-pipeline-3-kfp-pipeline-20230407135802 current state:\n",
      "PipelineState.PIPELINE_STATE_RUNNING\n",
      "PipelineJob projects/146339387885/locations/us-central1/pipelineJobs/rutu-ct-pipeline-3-kfp-pipeline-20230407135802 current state:\n",
      "PipelineState.PIPELINE_STATE_RUNNING\n",
      "PipelineJob projects/146339387885/locations/us-central1/pipelineJobs/rutu-ct-pipeline-3-kfp-pipeline-20230407135802 current state:\n",
      "PipelineState.PIPELINE_STATE_RUNNING\n",
      "PipelineJob projects/146339387885/locations/us-central1/pipelineJobs/rutu-ct-pipeline-3-kfp-pipeline-20230407135802 current state:\n",
      "PipelineState.PIPELINE_STATE_RUNNING\n",
      "PipelineJob projects/146339387885/locations/us-central1/pipelineJobs/rutu-ct-pipeline-3-kfp-pipeline-20230407135802 current state:\n",
      "PipelineState.PIPELINE_STATE_RUNNING\n",
      "PipelineJob projects/146339387885/locations/us-central1/pipelineJobs/rutu-ct-pipeline-3-kfp-pipeline-20230407135802 current state:\n",
      "PipelineState.PIPELINE_STATE_RUNNING\n",
      "PipelineJob projects/146339387885/locations/us-central1/pipelineJobs/rutu-ct-pipeline-3-kfp-pipeline-20230407135802 current state:\n",
      "PipelineState.PIPELINE_STATE_RUNNING\n",
      "PipelineJob projects/146339387885/locations/us-central1/pipelineJobs/rutu-ct-pipeline-3-kfp-pipeline-20230407135802 current state:\n",
      "PipelineState.PIPELINE_STATE_RUNNING\n",
      "PipelineJob projects/146339387885/locations/us-central1/pipelineJobs/rutu-ct-pipeline-3-kfp-pipeline-20230407135802 current state:\n",
      "PipelineState.PIPELINE_STATE_RUNNING\n",
      "PipelineJob projects/146339387885/locations/us-central1/pipelineJobs/rutu-ct-pipeline-3-kfp-pipeline-20230407135802 current state:\n",
      "PipelineState.PIPELINE_STATE_RUNNING\n",
      "PipelineJob projects/146339387885/locations/us-central1/pipelineJobs/rutu-ct-pipeline-3-kfp-pipeline-20230407135802 current state:\n",
      "PipelineState.PIPELINE_STATE_RUNNING\n",
      "PipelineJob projects/146339387885/locations/us-central1/pipelineJobs/rutu-ct-pipeline-3-kfp-pipeline-20230407135802 current state:\n",
      "PipelineState.PIPELINE_STATE_RUNNING\n",
      "PipelineJob projects/146339387885/locations/us-central1/pipelineJobs/rutu-ct-pipeline-3-kfp-pipeline-20230407135802 current state:\n",
      "PipelineState.PIPELINE_STATE_RUNNING\n",
      "PipelineJob projects/146339387885/locations/us-central1/pipelineJobs/rutu-ct-pipeline-3-kfp-pipeline-20230407135802 current state:\n",
      "PipelineState.PIPELINE_STATE_RUNNING\n",
      "PipelineJob projects/146339387885/locations/us-central1/pipelineJobs/rutu-ct-pipeline-3-kfp-pipeline-20230407135802 current state:\n",
      "PipelineState.PIPELINE_STATE_RUNNING\n"
     ]
    },
    {
     "ename": "RuntimeError",
     "evalue": "Job failed with:\ncode: 9\nmessage: \"The DAG failed because some tasks failed. The failed tasks are: [model-deploy].; Job (project_id = qwiklabs-asl-04-76d2f9d7a5ae, job_id = 4193276214326067200) is failed due to the above error.; Failed to handle the job: {project_number = 146339387885, job_id = 4193276214326067200}\"\n",
     "output_type": "error",
     "traceback": [
      "\u001b[0;31m---------------------------------------------------------------------------\u001b[0m",
      "\u001b[0;31mRuntimeError\u001b[0m                              Traceback (most recent call last)",
      "\u001b[0;32m/var/tmp/ipykernel_11963/91737733.py\u001b[0m in \u001b[0;36m<module>\u001b[0;34m\u001b[0m\n\u001b[1;32m      7\u001b[0m )\n\u001b[1;32m      8\u001b[0m \u001b[0;34m\u001b[0m\u001b[0m\n\u001b[0;32m----> 9\u001b[0;31m \u001b[0mpipeline\u001b[0m\u001b[0;34m.\u001b[0m\u001b[0mrun\u001b[0m\u001b[0;34m(\u001b[0m\u001b[0;34m)\u001b[0m\u001b[0;34m\u001b[0m\u001b[0;34m\u001b[0m\u001b[0m\n\u001b[0m",
      "\u001b[0;32m~/.local/lib/python3.7/site-packages/google/cloud/aiplatform/pipeline_jobs.py\u001b[0m in \u001b[0;36mrun\u001b[0;34m(self, service_account, network, sync, create_request_timeout)\u001b[0m\n\u001b[1;32m    316\u001b[0m             \u001b[0mnetwork\u001b[0m\u001b[0;34m=\u001b[0m\u001b[0mnetwork\u001b[0m\u001b[0;34m,\u001b[0m\u001b[0;34m\u001b[0m\u001b[0;34m\u001b[0m\u001b[0m\n\u001b[1;32m    317\u001b[0m             \u001b[0msync\u001b[0m\u001b[0;34m=\u001b[0m\u001b[0msync\u001b[0m\u001b[0;34m,\u001b[0m\u001b[0;34m\u001b[0m\u001b[0;34m\u001b[0m\u001b[0m\n\u001b[0;32m--> 318\u001b[0;31m             \u001b[0mcreate_request_timeout\u001b[0m\u001b[0;34m=\u001b[0m\u001b[0mcreate_request_timeout\u001b[0m\u001b[0;34m,\u001b[0m\u001b[0;34m\u001b[0m\u001b[0;34m\u001b[0m\u001b[0m\n\u001b[0m\u001b[1;32m    319\u001b[0m         )\n\u001b[1;32m    320\u001b[0m \u001b[0;34m\u001b[0m\u001b[0m\n",
      "\u001b[0;32m~/.local/lib/python3.7/site-packages/google/cloud/aiplatform/base.py\u001b[0m in \u001b[0;36mwrapper\u001b[0;34m(*args, **kwargs)\u001b[0m\n\u001b[1;32m    808\u001b[0m                 \u001b[0;32mif\u001b[0m \u001b[0mself\u001b[0m\u001b[0;34m:\u001b[0m\u001b[0;34m\u001b[0m\u001b[0;34m\u001b[0m\u001b[0m\n\u001b[1;32m    809\u001b[0m                     \u001b[0mVertexAiResourceNounWithFutureManager\u001b[0m\u001b[0;34m.\u001b[0m\u001b[0mwait\u001b[0m\u001b[0;34m(\u001b[0m\u001b[0mself\u001b[0m\u001b[0;34m)\u001b[0m\u001b[0;34m\u001b[0m\u001b[0;34m\u001b[0m\u001b[0m\n\u001b[0;32m--> 810\u001b[0;31m                 \u001b[0;32mreturn\u001b[0m \u001b[0mmethod\u001b[0m\u001b[0;34m(\u001b[0m\u001b[0;34m*\u001b[0m\u001b[0margs\u001b[0m\u001b[0;34m,\u001b[0m \u001b[0;34m**\u001b[0m\u001b[0mkwargs\u001b[0m\u001b[0;34m)\u001b[0m\u001b[0;34m\u001b[0m\u001b[0;34m\u001b[0m\u001b[0m\n\u001b[0m\u001b[1;32m    811\u001b[0m \u001b[0;34m\u001b[0m\u001b[0m\n\u001b[1;32m    812\u001b[0m             \u001b[0;31m# callbacks to call within the Future (in same Thread)\u001b[0m\u001b[0;34m\u001b[0m\u001b[0;34m\u001b[0m\u001b[0;34m\u001b[0m\u001b[0m\n",
      "\u001b[0;32m~/.local/lib/python3.7/site-packages/google/cloud/aiplatform/pipeline_jobs.py\u001b[0m in \u001b[0;36m_run\u001b[0;34m(self, service_account, network, sync, create_request_timeout)\u001b[0m\n\u001b[1;32m    349\u001b[0m         )\n\u001b[1;32m    350\u001b[0m \u001b[0;34m\u001b[0m\u001b[0m\n\u001b[0;32m--> 351\u001b[0;31m         \u001b[0mself\u001b[0m\u001b[0;34m.\u001b[0m\u001b[0m_block_until_complete\u001b[0m\u001b[0;34m(\u001b[0m\u001b[0;34m)\u001b[0m\u001b[0;34m\u001b[0m\u001b[0;34m\u001b[0m\u001b[0m\n\u001b[0m\u001b[1;32m    352\u001b[0m \u001b[0;34m\u001b[0m\u001b[0m\n\u001b[1;32m    353\u001b[0m     def submit(\n",
      "\u001b[0;32m~/.local/lib/python3.7/site-packages/google/cloud/aiplatform/pipeline_jobs.py\u001b[0m in \u001b[0;36m_block_until_complete\u001b[0;34m(self)\u001b[0m\n\u001b[1;32m    497\u001b[0m         \u001b[0;31m# JOB_STATE_FAILED or JOB_STATE_CANCELLED.\u001b[0m\u001b[0;34m\u001b[0m\u001b[0;34m\u001b[0m\u001b[0;34m\u001b[0m\u001b[0m\n\u001b[1;32m    498\u001b[0m         \u001b[0;32mif\u001b[0m \u001b[0mself\u001b[0m\u001b[0;34m.\u001b[0m\u001b[0m_gca_resource\u001b[0m\u001b[0;34m.\u001b[0m\u001b[0mstate\u001b[0m \u001b[0;32min\u001b[0m \u001b[0m_PIPELINE_ERROR_STATES\u001b[0m\u001b[0;34m:\u001b[0m\u001b[0;34m\u001b[0m\u001b[0;34m\u001b[0m\u001b[0m\n\u001b[0;32m--> 499\u001b[0;31m             \u001b[0;32mraise\u001b[0m \u001b[0mRuntimeError\u001b[0m\u001b[0;34m(\u001b[0m\u001b[0;34m\"Job failed with:\\n%s\"\u001b[0m \u001b[0;34m%\u001b[0m \u001b[0mself\u001b[0m\u001b[0;34m.\u001b[0m\u001b[0m_gca_resource\u001b[0m\u001b[0;34m.\u001b[0m\u001b[0merror\u001b[0m\u001b[0;34m)\u001b[0m\u001b[0;34m\u001b[0m\u001b[0;34m\u001b[0m\u001b[0m\n\u001b[0m\u001b[1;32m    500\u001b[0m         \u001b[0;32melse\u001b[0m\u001b[0;34m:\u001b[0m\u001b[0;34m\u001b[0m\u001b[0;34m\u001b[0m\u001b[0m\n\u001b[1;32m    501\u001b[0m             \u001b[0m_LOGGER\u001b[0m\u001b[0;34m.\u001b[0m\u001b[0mlog_action_completed_against_resource\u001b[0m\u001b[0;34m(\u001b[0m\u001b[0;34m\"run\"\u001b[0m\u001b[0;34m,\u001b[0m \u001b[0;34m\"completed\"\u001b[0m\u001b[0;34m,\u001b[0m \u001b[0mself\u001b[0m\u001b[0;34m)\u001b[0m\u001b[0;34m\u001b[0m\u001b[0;34m\u001b[0m\u001b[0m\n",
      "\u001b[0;31mRuntimeError\u001b[0m: Job failed with:\ncode: 9\nmessage: \"The DAG failed because some tasks failed. The failed tasks are: [model-deploy].; Job (project_id = qwiklabs-asl-04-76d2f9d7a5ae, job_id = 4193276214326067200) is failed due to the above error.; Failed to handle the job: {project_number = 146339387885, job_id = 4193276214326067200}\"\n"
     ]
    }
   ],
   "source": [
    "aiplatform.init(project=PROJECT_ID, location=REGION)\n",
    "\n",
    "pipeline = aiplatform.PipelineJob(\n",
    "    display_name=\"rutu_ct_pipeline_3\",\n",
    "    template_path=PIPELINE_JSON,\n",
    "    enable_caching=True,\n",
    ")\n",
    "\n",
    "pipeline.run()"
   ]
  },
  {
   "cell_type": "code",
   "execution_count": null,
   "id": "edcd2b46-5bb0-4a0f-8558-e1f8c1773a29",
   "metadata": {
    "pycharm": {
     "name": "#%%\n"
    }
   },
   "outputs": [],
   "source": []
  }
 ],
 "metadata": {
  "environment": {
   "kernel": "python3",
   "name": "tf2-gpu.2-8.m104",
   "type": "gcloud",
   "uri": "gcr.io/deeplearning-platform-release/tf2-gpu.2-8:m104"
  },
  "kernelspec": {
   "display_name": "Python 3 (ipykernel)",
   "language": "python",
   "name": "python3"
  },
  "language_info": {
   "codemirror_mode": {
    "name": "ipython",
    "version": 3
   },
   "file_extension": ".py",
   "mimetype": "text/x-python",
   "name": "python",
   "nbconvert_exporter": "python",
   "pygments_lexer": "ipython3",
   "version": "3.7.12"
  }
 },
 "nbformat": 4,
 "nbformat_minor": 5
}
